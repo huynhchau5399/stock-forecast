{
 "cells": [
  {
   "cell_type": "markdown",
   "metadata": {},
   "source": [
    "# Source code thu thập dữ liệu"
   ]
  },
  {
   "cell_type": "markdown",
   "metadata": {},
   "source": [
    "---"
   ]
  },
  {
   "cell_type": "markdown",
   "metadata": {},
   "source": [
    "## Import"
   ]
  },
  {
   "cell_type": "code",
   "execution_count": 1,
   "metadata": {},
   "outputs": [],
   "source": [
    "import pandas as pd\n",
    "import os # thao tác với file, folder\n",
    "import time # time.sleep()\n",
    "import urllib.robotparser # kiểm tra file robots.txt\n",
    "from requests_html import HTML # parse HTML\n",
    "from selenium import webdriver # parse trang có Javascript\n",
    "from datetime import datetime as dt # thao tác với ngày tháng\n",
    "from datetime import timezone as tz # thao tác với ngày tháng"
   ]
  },
  {
   "cell_type": "markdown",
   "metadata": {},
   "source": [
    "---"
   ]
  },
  {
   "cell_type": "markdown",
   "metadata": {},
   "source": [
    "Danh sách các công ty sẽ được thu thập dữ liệu chứng khoán."
   ]
  },
  {
   "cell_type": "code",
   "execution_count": 153,
   "metadata": {},
   "outputs": [],
   "source": [
    "company_dict = {'AAPL': 'APPLE', 'AMZN': 'AMAZON', 'FB': 'FACEBOOK', \n",
    "                'GOOGL': 'GOOGLE', 'IBM': 'IBM', 'MSFT': 'MICROSOFT', \n",
    "                'NFLX': 'NETFLIX', 'TSLA': 'TESLA'}"
   ]
  },
  {
   "cell_type": "markdown",
   "metadata": {},
   "source": [
    "## Thu thập dữ liệu bằng Parse HTML"
   ]
  },
  {
   "cell_type": "markdown",
   "metadata": {},
   "source": [
    "- Thu thập từ trang: https://finance.yahoo.com/\n",
    "- Dữ liệu thu thập là dữ liệu lịch sử chứng khoán theo từng ngày (daily, mỗi ngày một record) của các công ty."
   ]
  },
  {
   "cell_type": "code",
   "execution_count": 2,
   "metadata": {},
   "outputs": [],
   "source": [
    "def yahoofinance_html(symbol, start_date='01011999', end_date='26122020'):\n",
    "    \"\"\"\n",
    "    - symbol: mã chứng khoán (ví dụ AMZN: Amazon, TSLA: Tesla)\n",
    "    - start_date, end_date: ngày bắt đầu và kết thúc của dữ liệu giao dịch cần lấy\n",
    "        - format: ddmmyyy, ví dụ 02092020 = ngày 2 tháng 9 năm 2020\n",
    "    ----------\n",
    "    Trả về pd.DataFrame dữ liệu chứng khoáng theo từng ngày của mã `symbol`\n",
    "    \"\"\"\n",
    "    # Chuyển ngày sang Unix time (yahoofinance cần format này trong đường dẫn)\n",
    "    start_date = str(int(dt.strptime(start_date, '%d%m%Y').replace(tzinfo=tz.utc).timestamp()))\n",
    "    end_date   = str(int(dt.strptime(  end_date, '%d%m%Y').replace(tzinfo=tz.utc).timestamp()))\n",
    "    \n",
    "    url = 'https://finance.yahoo.com/quote/' + symbol + '/history?' + \\\n",
    "            'period1=' + start_date + '&period2=' + end_date + \\\n",
    "            '&interval=1d&filter=history&frequency=1d&includeAdjustedClose=true'\n",
    "    \n",
    "    # Kiểm tra file robots.txt xem có được phép crawl trang web\n",
    "    rp = urllib.robotparser.RobotFileParser()\n",
    "    rp.set_url('https://finance.yahoo.com/robots.txt')\n",
    "    rp.read()\n",
    "    if not rp.can_fetch('*', url):\n",
    "        assert(\"Không được phép tải \" + url)\n",
    "        \n",
    "    driver.get(url)\n",
    "        \n",
    "    # Kéo xuống cho đến khi trang đã tải hết bảng dữ liệu\n",
    "    while driver.page_source.find('Loading more data...</span>') >= 0:\n",
    "        driver.execute_script(\"document.getElementsByTagName('table')[0].scrollIntoView(false)\")\n",
    "        time.sleep(0.5)\n",
    "    \n",
    "    # Rút trích table html để pandas parse thành DataFrame\n",
    "    html = HTML(html=driver.page_source)\n",
    "    df = pd.read_html(html.find('table', first=True).raw_html)[0]\n",
    "    \n",
    "    return df"
   ]
  },
  {
   "cell_type": "markdown",
   "metadata": {},
   "source": [
    "Code chạy thực thi."
   ]
  },
  {
   "cell_type": "code",
   "execution_count": 4,
   "metadata": {},
   "outputs": [],
   "source": [
    "# Tải ở https://github.com/mozilla/geckodriver/releases\n",
    "driver = webdriver.Firefox(executable_path='./geckodriver-v0.28.0-linux64/geckodriver')"
   ]
  },
  {
   "cell_type": "markdown",
   "metadata": {},
   "source": [
    "Có thể tuỳ chỉnh thời gian muốn thu thập ở dòng (\\*), thời gian mặc định là từ 01-01-1999 tới 26-12-2020"
   ]
  },
  {
   "cell_type": "code",
   "execution_count": 5,
   "metadata": {},
   "outputs": [],
   "source": [
    "path = '../data/daily'\n",
    "if not os.path.exists(path):\n",
    "    os.makedirs(path)\n",
    "for company in company_dict.keys():\n",
    "    f = path + '/daily_' + company + '.csv'\n",
    "    if os.path.exists(f):\n",
    "        continue\n",
    "    df = yahoofinance_html(symbol=company) # (*)\n",
    "    df.to_csv(f, index=False)"
   ]
  },
  {
   "cell_type": "code",
   "execution_count": 6,
   "metadata": {},
   "outputs": [],
   "source": [
    "driver.close()"
   ]
  },
  {
   "cell_type": "markdown",
   "metadata": {},
   "source": [
    "## Thu thập dữ liệu bằng API"
   ]
  },
  {
   "cell_type": "markdown",
   "metadata": {},
   "source": [
    "- Thu thập qua API của trang: https://www.alphavantage.co\n",
    "- Dữ liệu thu thập là dữ liệu lịch sử chứng khoán với các giao dịch cách nhau một khoảng thời gian theo phút (gọi là intraday, mỗi ngày có nhiều record) của các công ty."
   ]
  },
  {
   "cell_type": "code",
   "execution_count": 152,
   "metadata": {},
   "outputs": [],
   "source": [
    "def alphavantage_api(function, symbol, apikey, outputsize='compact', interval=30):\n",
    "    \"\"\"\n",
    "    - function: loại time series cần lấy\n",
    "        - DAILY_ADJUSTED: các giao dịch theo từng ngày\n",
    "        - INTRADAY_EXTENDED: các giao dịch trong ngày của từng ngày (tối đa 2 năm)\n",
    "    - symbol: mã chứng khoán (ví dụ AMZN: Amazon, TSLA: Tesla)\n",
    "    - apikey: mã để sử dụng api\n",
    "    Tham số áp dụng cho function là DAILY_ADJUSTED:\n",
    "        - outputsize: \n",
    "            + compact:lấy 100 dòng dữ liệu ngày gần đây nhất\n",
    "            + full: lấy tối đa 20 năm dữ liệu hoặc \n",
    "                    từ ngày công ty mở giao dịch nếu công ty thành lập ít hơn 20 năm\n",
    "    Tham số áp dụng cho function là INTRADAY_EXTENDED:\n",
    "        - interval: thời gian (số phút) ngắn nhất giữa hai lượt giao dịch liên tục được lấy\n",
    "            + Các giá trị được hỗ trợ: 1, 5, 15, 30, 60 (min)\n",
    "    ----------\n",
    "    Trả về pd.DataFrame\n",
    "    \"\"\"\n",
    "    base_url = 'https://www.alphavantage.co/query?' + \\\n",
    "                'function=TIME_SERIES_' + function + '&symbol=' + symbol + '&apikey=' + apikey\n",
    "    data = None\n",
    "    \n",
    "    if function == 'DAILY_ADJUSTED':\n",
    "        url = base_url + '&datatype=csv' + '&outputsize=' + outputsize\n",
    "        while(True):\n",
    "            try: # Phòng trường hợp kết nối lỗi\n",
    "                data = pd.read_csv(url)\n",
    "                # Alphavantage giới hạn 5 truy cập api trên 1 phút\n",
    "                # Nếu đạt giới hạn truy cập, api sẽ trả về thông báo, lúc này DataFrame chỉ có 2 dòng\n",
    "                if len(data) > 2: break\n",
    "            except: pass\n",
    "            time.sleep(61)\n",
    "    \n",
    "    if function == 'INTRADAY_EXTENDED':\n",
    "        url = base_url + '&interval=' + str(interval) + 'min' + '&slice='\n",
    "        data = pd.DataFrame()\n",
    "        for year, month in ((str(y), str(m)) for y in [1, 2] for m in range(1, 13)):\n",
    "            # slice: dữ liệu được chia làm 24 phần tương ứng với 24 tháng của 2 năm\n",
    "                # year1month1 là tháng gần nhất so với hiện tại\n",
    "                # year2month12 là tháng xa nhất\n",
    "            _slice = 'year' + year + 'month' + month\n",
    "            while(True):\n",
    "                try:\n",
    "                    more_data = pd.read_csv(url + _slice)\n",
    "                    if len(more_data) > 2: break\n",
    "                except: pass\n",
    "                time.sleep(61)\n",
    "            data = data.append(more_data)\n",
    "            time.sleep(3)\n",
    "            \n",
    "    return data"
   ]
  },
  {
   "cell_type": "markdown",
   "metadata": {},
   "source": [
    "Code chạy thực thi."
   ]
  },
  {
   "cell_type": "code",
   "execution_count": null,
   "metadata": {},
   "outputs": [],
   "source": [
    "apikey = 'ZF5PTL6XOV5FHI9F'\n",
    "\n",
    "for interval in [5, 30, 60]: # Thay đổi list này để lấy data với interval khác\n",
    "    path = '..data/intraday_' + str(interval) + 'min'\n",
    "    if not os.path.exists(path):\n",
    "        os.mkdir(path)\n",
    "    for company in company_dict.keys():\n",
    "        f = path + '/intraday_' + company + '_' + str(interval) + 'min.csv'\n",
    "        if os.path.exists(f):\n",
    "            continue\n",
    "        df = alphavantage_api(function='INTRADAY_EXTENDED', symbol=company, apikey=apikey, interval=interval)\n",
    "        df.to_csv(f)"
   ]
  },
  {
   "cell_type": "markdown",
   "metadata": {},
   "source": [
    "### Note\n",
    "Dữ liệu của yahoo có close đã điều chỉnh cho tách cổ phiếu (split), còn adjusted_close điều chỉnh thêm chia cỗ tức (dividend).\n",
    "> \\*Close price adjusted for splits.**Adjusted close price adjusted for both dividends and splits.\n",
    "\n",
    "Footnote của trang yahoofinance"
   ]
  },
  {
   "cell_type": "markdown",
   "metadata": {},
   "source": [
    "### Bookmark\n",
    "\n",
    "https://beenje.github.io/blog/posts/parsing-html-tables-in-python-with-pandas/"
   ]
  },
  {
   "cell_type": "markdown",
   "metadata": {},
   "source": [
    "### Câu hỏi\n",
    "- Giá cổ phiếu sẽ thay đổi như thế nào khi có split? Kì vọng giá sẽ tăng trong thời gian ngắn\n",
    "- Volume thay đổi như thế nào theo thời gian? Xu hướng chung là tăng dần\n",
    "- Covid ảnh hưởng? Kì vọng volume và close giảm \n",
    "- Chỉ số rủi ro ra sao? Kì vọng giá cổ phiếu càng cao thì rủi ro càng cao \n",
    "- Tương quan giua volume và price?"
   ]
  },
  {
   "cell_type": "markdown",
   "metadata": {},
   "source": [
    "Overall, the adjusted closing price will give you a better idea of the overall value of the stock and help you make informed decisions about buying and selling, while the closing stock price will tell you the exact cash value of a share of stock at the end of the trading day."
   ]
  }
 ],
 "metadata": {
  "kernelspec": {
   "display_name": "Python 3",
   "language": "python",
   "name": "python3"
  },
  "language_info": {
   "codemirror_mode": {
    "name": "ipython",
    "version": 3
   },
   "file_extension": ".py",
   "mimetype": "text/x-python",
   "name": "python",
   "nbconvert_exporter": "python",
   "pygments_lexer": "ipython3",
   "version": "3.7.3"
  }
 },
 "nbformat": 4,
 "nbformat_minor": 4
}
